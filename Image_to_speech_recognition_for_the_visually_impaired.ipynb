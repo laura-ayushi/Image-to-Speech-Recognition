{
  "cells": [
    {
      "cell_type": "markdown",
      "metadata": {
        "id": "view-in-github",
        "colab_type": "text"
      },
      "source": [
        "<a href=\"https://colab.research.google.com/github/laura-ayushi/Image-to-Speech-Recognition/blob/main/Image_to_speech_recognition_for_the_visually_impaired.ipynb\" target=\"_parent\"><img src=\"https://colab.research.google.com/assets/colab-badge.svg\" alt=\"Open In Colab\"/></a>"
      ]
    },
    {
      "cell_type": "markdown",
      "metadata": {
        "id": "TvV-cCwqJF7R"
      },
      "source": [
        "# Importing libraries"
      ]
    },
    {
      "cell_type": "code",
      "execution_count": 1,
      "metadata": {
        "id": "sR6pdpNNqeMO"
      },
      "outputs": [],
      "source": [
        "import os\n",
        "import re\n",
        "import numpy as np\n",
        "import matplotlib.pyplot as plt\n",
        "import pandas as pd\n",
        "import keras\n",
        "import tensorflow as tf\n",
        "from google.colab import files\n",
        "from tensorflow import keras\n",
        "from keras.models import Model\n",
        "from tensorflow.keras import layers\n",
        "from tensorflow.keras.applications import efficientnet\n",
        "from tensorflow.keras.layers import TextVectorization\n",
        "from tqdm.auto import tqdm\n",
        "from tensorflow.keras import Sequential\n",
        "from keras.layers import Dense, Activation\n",
        "seed = 111\n",
        "np.random.seed(seed)\n",
        "tf.random.set_seed(seed)"
      ]
    },
    {
      "cell_type": "code",
      "source": [
        "!pip install gTTS"
      ],
      "metadata": {
        "id": "8JOy7w60OP53",
        "colab": {
          "base_uri": "https://localhost:8080/",
          "height": 679
        },
        "outputId": "e85fd16a-927f-4c94-d906-0c449105d5fa"
      },
      "execution_count": 2,
      "outputs": [
        {
          "output_type": "stream",
          "name": "stdout",
          "text": [
            "Looking in indexes: https://pypi.org/simple, https://us-python.pkg.dev/colab-wheels/public/simple/\n",
            "Collecting gTTS\n",
            "  Downloading gTTS-2.3.0-py3-none-any.whl (26 kB)\n",
            "Collecting requests~=2.28.0\n",
            "  Downloading requests-2.28.1-py3-none-any.whl (62 kB)\n",
            "\u001b[K     |████████████████████████████████| 62 kB 1.1 MB/s \n",
            "\u001b[?25hCollecting six~=1.16.0\n",
            "  Downloading six-1.16.0-py2.py3-none-any.whl (11 kB)\n",
            "Collecting click~=8.1.3\n",
            "  Downloading click-8.1.3-py3-none-any.whl (96 kB)\n",
            "\u001b[K     |████████████████████████████████| 96 kB 3.6 MB/s \n",
            "\u001b[?25hRequirement already satisfied: charset-normalizer<3,>=2 in /usr/local/lib/python3.8/dist-packages (from requests~=2.28.0->gTTS) (2.1.1)\n",
            "Requirement already satisfied: certifi>=2017.4.17 in /usr/local/lib/python3.8/dist-packages (from requests~=2.28.0->gTTS) (2022.12.7)\n",
            "Requirement already satisfied: urllib3<1.27,>=1.21.1 in /usr/local/lib/python3.8/dist-packages (from requests~=2.28.0->gTTS) (1.24.3)\n",
            "Requirement already satisfied: idna<4,>=2.5 in /usr/local/lib/python3.8/dist-packages (from requests~=2.28.0->gTTS) (2.10)\n",
            "Installing collected packages: six, requests, click, gTTS\n",
            "  Attempting uninstall: six\n",
            "    Found existing installation: six 1.15.0\n",
            "    Uninstalling six-1.15.0:\n",
            "      Successfully uninstalled six-1.15.0\n",
            "  Attempting uninstall: requests\n",
            "    Found existing installation: requests 2.23.0\n",
            "    Uninstalling requests-2.23.0:\n",
            "      Successfully uninstalled requests-2.23.0\n",
            "  Attempting uninstall: click\n",
            "    Found existing installation: click 7.1.2\n",
            "    Uninstalling click-7.1.2:\n",
            "      Successfully uninstalled click-7.1.2\n",
            "\u001b[31mERROR: pip's dependency resolver does not currently take into account all the packages that are installed. This behaviour is the source of the following dependency conflicts.\n",
            "ipython 7.9.0 requires jedi>=0.10, which is not installed.\n",
            "flask 1.1.4 requires click<8.0,>=5.1, but you have click 8.1.3 which is incompatible.\u001b[0m\n",
            "Successfully installed click-8.1.3 gTTS-2.3.0 requests-2.28.1 six-1.16.0\n"
          ]
        },
        {
          "output_type": "display_data",
          "data": {
            "application/vnd.colab-display-data+json": {
              "pip_warning": {
                "packages": [
                  "requests",
                  "six"
                ]
              }
            }
          },
          "metadata": {}
        }
      ]
    },
    {
      "cell_type": "markdown",
      "metadata": {
        "id": "sBHLfHYbJK_o"
      },
      "source": [
        "#Loading the Dataset"
      ]
    },
    {
      "cell_type": "code",
      "execution_count": 3,
      "metadata": {
        "id": "8ZNtL9KRB_wx"
      },
      "outputs": [],
      "source": [
        "!wget -q https://github.com/jbrownlee/Datasets/releases/download/Flickr8k/Flickr8k_Dataset.zip\n",
        "!wget -q https://github.com/jbrownlee/Datasets/releases/download/Flickr8k/Flickr8k_text.zip\n",
        "!unzip -qq Flickr8k_Dataset.zip\n",
        "!unzip -qq Flickr8k_text.zip\n",
        "!rm Flickr8k_Dataset.zip Flickr8k_text.zip"
      ]
    },
    {
      "cell_type": "code",
      "execution_count": 4,
      "metadata": {
        "id": "UnQ5A6SSuAwJ",
        "colab": {
          "base_uri": "https://localhost:8080/",
          "height": 73
        },
        "outputId": "7117b792-7bff-43e8-92e4-6a9e1827b46f"
      },
      "outputs": [
        {
          "output_type": "display_data",
          "data": {
            "text/plain": [
              "<IPython.core.display.HTML object>"
            ],
            "text/html": [
              "\n",
              "     <input type=\"file\" id=\"files-0c879eab-0de2-4ffb-805f-4f0587c46576\" name=\"files[]\" multiple disabled\n",
              "        style=\"border:none\" />\n",
              "     <output id=\"result-0c879eab-0de2-4ffb-805f-4f0587c46576\">\n",
              "      Upload widget is only available when the cell has been executed in the\n",
              "      current browser session. Please rerun this cell to enable.\n",
              "      </output>\n",
              "      <script>// Copyright 2017 Google LLC\n",
              "//\n",
              "// Licensed under the Apache License, Version 2.0 (the \"License\");\n",
              "// you may not use this file except in compliance with the License.\n",
              "// You may obtain a copy of the License at\n",
              "//\n",
              "//      http://www.apache.org/licenses/LICENSE-2.0\n",
              "//\n",
              "// Unless required by applicable law or agreed to in writing, software\n",
              "// distributed under the License is distributed on an \"AS IS\" BASIS,\n",
              "// WITHOUT WARRANTIES OR CONDITIONS OF ANY KIND, either express or implied.\n",
              "// See the License for the specific language governing permissions and\n",
              "// limitations under the License.\n",
              "\n",
              "/**\n",
              " * @fileoverview Helpers for google.colab Python module.\n",
              " */\n",
              "(function(scope) {\n",
              "function span(text, styleAttributes = {}) {\n",
              "  const element = document.createElement('span');\n",
              "  element.textContent = text;\n",
              "  for (const key of Object.keys(styleAttributes)) {\n",
              "    element.style[key] = styleAttributes[key];\n",
              "  }\n",
              "  return element;\n",
              "}\n",
              "\n",
              "// Max number of bytes which will be uploaded at a time.\n",
              "const MAX_PAYLOAD_SIZE = 100 * 1024;\n",
              "\n",
              "function _uploadFiles(inputId, outputId) {\n",
              "  const steps = uploadFilesStep(inputId, outputId);\n",
              "  const outputElement = document.getElementById(outputId);\n",
              "  // Cache steps on the outputElement to make it available for the next call\n",
              "  // to uploadFilesContinue from Python.\n",
              "  outputElement.steps = steps;\n",
              "\n",
              "  return _uploadFilesContinue(outputId);\n",
              "}\n",
              "\n",
              "// This is roughly an async generator (not supported in the browser yet),\n",
              "// where there are multiple asynchronous steps and the Python side is going\n",
              "// to poll for completion of each step.\n",
              "// This uses a Promise to block the python side on completion of each step,\n",
              "// then passes the result of the previous step as the input to the next step.\n",
              "function _uploadFilesContinue(outputId) {\n",
              "  const outputElement = document.getElementById(outputId);\n",
              "  const steps = outputElement.steps;\n",
              "\n",
              "  const next = steps.next(outputElement.lastPromiseValue);\n",
              "  return Promise.resolve(next.value.promise).then((value) => {\n",
              "    // Cache the last promise value to make it available to the next\n",
              "    // step of the generator.\n",
              "    outputElement.lastPromiseValue = value;\n",
              "    return next.value.response;\n",
              "  });\n",
              "}\n",
              "\n",
              "/**\n",
              " * Generator function which is called between each async step of the upload\n",
              " * process.\n",
              " * @param {string} inputId Element ID of the input file picker element.\n",
              " * @param {string} outputId Element ID of the output display.\n",
              " * @return {!Iterable<!Object>} Iterable of next steps.\n",
              " */\n",
              "function* uploadFilesStep(inputId, outputId) {\n",
              "  const inputElement = document.getElementById(inputId);\n",
              "  inputElement.disabled = false;\n",
              "\n",
              "  const outputElement = document.getElementById(outputId);\n",
              "  outputElement.innerHTML = '';\n",
              "\n",
              "  const pickedPromise = new Promise((resolve) => {\n",
              "    inputElement.addEventListener('change', (e) => {\n",
              "      resolve(e.target.files);\n",
              "    });\n",
              "  });\n",
              "\n",
              "  const cancel = document.createElement('button');\n",
              "  inputElement.parentElement.appendChild(cancel);\n",
              "  cancel.textContent = 'Cancel upload';\n",
              "  const cancelPromise = new Promise((resolve) => {\n",
              "    cancel.onclick = () => {\n",
              "      resolve(null);\n",
              "    };\n",
              "  });\n",
              "\n",
              "  // Wait for the user to pick the files.\n",
              "  const files = yield {\n",
              "    promise: Promise.race([pickedPromise, cancelPromise]),\n",
              "    response: {\n",
              "      action: 'starting',\n",
              "    }\n",
              "  };\n",
              "\n",
              "  cancel.remove();\n",
              "\n",
              "  // Disable the input element since further picks are not allowed.\n",
              "  inputElement.disabled = true;\n",
              "\n",
              "  if (!files) {\n",
              "    return {\n",
              "      response: {\n",
              "        action: 'complete',\n",
              "      }\n",
              "    };\n",
              "  }\n",
              "\n",
              "  for (const file of files) {\n",
              "    const li = document.createElement('li');\n",
              "    li.append(span(file.name, {fontWeight: 'bold'}));\n",
              "    li.append(span(\n",
              "        `(${file.type || 'n/a'}) - ${file.size} bytes, ` +\n",
              "        `last modified: ${\n",
              "            file.lastModifiedDate ? file.lastModifiedDate.toLocaleDateString() :\n",
              "                                    'n/a'} - `));\n",
              "    const percent = span('0% done');\n",
              "    li.appendChild(percent);\n",
              "\n",
              "    outputElement.appendChild(li);\n",
              "\n",
              "    const fileDataPromise = new Promise((resolve) => {\n",
              "      const reader = new FileReader();\n",
              "      reader.onload = (e) => {\n",
              "        resolve(e.target.result);\n",
              "      };\n",
              "      reader.readAsArrayBuffer(file);\n",
              "    });\n",
              "    // Wait for the data to be ready.\n",
              "    let fileData = yield {\n",
              "      promise: fileDataPromise,\n",
              "      response: {\n",
              "        action: 'continue',\n",
              "      }\n",
              "    };\n",
              "\n",
              "    // Use a chunked sending to avoid message size limits. See b/62115660.\n",
              "    let position = 0;\n",
              "    do {\n",
              "      const length = Math.min(fileData.byteLength - position, MAX_PAYLOAD_SIZE);\n",
              "      const chunk = new Uint8Array(fileData, position, length);\n",
              "      position += length;\n",
              "\n",
              "      const base64 = btoa(String.fromCharCode.apply(null, chunk));\n",
              "      yield {\n",
              "        response: {\n",
              "          action: 'append',\n",
              "          file: file.name,\n",
              "          data: base64,\n",
              "        },\n",
              "      };\n",
              "\n",
              "      let percentDone = fileData.byteLength === 0 ?\n",
              "          100 :\n",
              "          Math.round((position / fileData.byteLength) * 100);\n",
              "      percent.textContent = `${percentDone}% done`;\n",
              "\n",
              "    } while (position < fileData.byteLength);\n",
              "  }\n",
              "\n",
              "  // All done.\n",
              "  yield {\n",
              "    response: {\n",
              "      action: 'complete',\n",
              "    }\n",
              "  };\n",
              "}\n",
              "\n",
              "scope.google = scope.google || {};\n",
              "scope.google.colab = scope.google.colab || {};\n",
              "scope.google.colab._files = {\n",
              "  _uploadFiles,\n",
              "  _uploadFilesContinue,\n",
              "};\n",
              "})(self);\n",
              "</script> "
            ]
          },
          "metadata": {}
        },
        {
          "output_type": "stream",
          "name": "stdout",
          "text": [
            "Saving captions.csv to captions.csv\n"
          ]
        }
      ],
      "source": [
        "upload =files.upload()\n",
        "data = pd.read_csv(\"captions.csv\")"
      ]
    },
    {
      "cell_type": "code",
      "execution_count": 5,
      "metadata": {
        "id": "MjZyRcTy5dzC",
        "colab": {
          "base_uri": "https://localhost:8080/",
          "height": 206
        },
        "outputId": "0a9b1996-37e3-45a1-e48c-c2a7a53c09ba"
      },
      "outputs": [
        {
          "output_type": "execute_result",
          "data": {
            "text/plain": [
              "                       image  \\\n",
              "0  1000268201_693b08cb0e.jpg   \n",
              "1  1000268201_693b08cb0e.jpg   \n",
              "2  1000268201_693b08cb0e.jpg   \n",
              "3  1000268201_693b08cb0e.jpg   \n",
              "4  1000268201_693b08cb0e.jpg   \n",
              "\n",
              "                                             caption  \n",
              "0  A child in a pink dress is climbing up a set o...  \n",
              "1              A girl going into a wooden building .  \n",
              "2   A little girl climbing into a wooden playhouse .  \n",
              "3  A little girl climbing the stairs to her playh...  \n",
              "4  A little girl in a pink dress going into a woo...  "
            ],
            "text/html": [
              "\n",
              "  <div id=\"df-47b232ca-8229-43e9-9563-86882c39fea1\">\n",
              "    <div class=\"colab-df-container\">\n",
              "      <div>\n",
              "<style scoped>\n",
              "    .dataframe tbody tr th:only-of-type {\n",
              "        vertical-align: middle;\n",
              "    }\n",
              "\n",
              "    .dataframe tbody tr th {\n",
              "        vertical-align: top;\n",
              "    }\n",
              "\n",
              "    .dataframe thead th {\n",
              "        text-align: right;\n",
              "    }\n",
              "</style>\n",
              "<table border=\"1\" class=\"dataframe\">\n",
              "  <thead>\n",
              "    <tr style=\"text-align: right;\">\n",
              "      <th></th>\n",
              "      <th>image</th>\n",
              "      <th>caption</th>\n",
              "    </tr>\n",
              "  </thead>\n",
              "  <tbody>\n",
              "    <tr>\n",
              "      <th>0</th>\n",
              "      <td>1000268201_693b08cb0e.jpg</td>\n",
              "      <td>A child in a pink dress is climbing up a set o...</td>\n",
              "    </tr>\n",
              "    <tr>\n",
              "      <th>1</th>\n",
              "      <td>1000268201_693b08cb0e.jpg</td>\n",
              "      <td>A girl going into a wooden building .</td>\n",
              "    </tr>\n",
              "    <tr>\n",
              "      <th>2</th>\n",
              "      <td>1000268201_693b08cb0e.jpg</td>\n",
              "      <td>A little girl climbing into a wooden playhouse .</td>\n",
              "    </tr>\n",
              "    <tr>\n",
              "      <th>3</th>\n",
              "      <td>1000268201_693b08cb0e.jpg</td>\n",
              "      <td>A little girl climbing the stairs to her playh...</td>\n",
              "    </tr>\n",
              "    <tr>\n",
              "      <th>4</th>\n",
              "      <td>1000268201_693b08cb0e.jpg</td>\n",
              "      <td>A little girl in a pink dress going into a woo...</td>\n",
              "    </tr>\n",
              "  </tbody>\n",
              "</table>\n",
              "</div>\n",
              "      <button class=\"colab-df-convert\" onclick=\"convertToInteractive('df-47b232ca-8229-43e9-9563-86882c39fea1')\"\n",
              "              title=\"Convert this dataframe to an interactive table.\"\n",
              "              style=\"display:none;\">\n",
              "        \n",
              "  <svg xmlns=\"http://www.w3.org/2000/svg\" height=\"24px\"viewBox=\"0 0 24 24\"\n",
              "       width=\"24px\">\n",
              "    <path d=\"M0 0h24v24H0V0z\" fill=\"none\"/>\n",
              "    <path d=\"M18.56 5.44l.94 2.06.94-2.06 2.06-.94-2.06-.94-.94-2.06-.94 2.06-2.06.94zm-11 1L8.5 8.5l.94-2.06 2.06-.94-2.06-.94L8.5 2.5l-.94 2.06-2.06.94zm10 10l.94 2.06.94-2.06 2.06-.94-2.06-.94-.94-2.06-.94 2.06-2.06.94z\"/><path d=\"M17.41 7.96l-1.37-1.37c-.4-.4-.92-.59-1.43-.59-.52 0-1.04.2-1.43.59L10.3 9.45l-7.72 7.72c-.78.78-.78 2.05 0 2.83L4 21.41c.39.39.9.59 1.41.59.51 0 1.02-.2 1.41-.59l7.78-7.78 2.81-2.81c.8-.78.8-2.07 0-2.86zM5.41 20L4 18.59l7.72-7.72 1.47 1.35L5.41 20z\"/>\n",
              "  </svg>\n",
              "      </button>\n",
              "      \n",
              "  <style>\n",
              "    .colab-df-container {\n",
              "      display:flex;\n",
              "      flex-wrap:wrap;\n",
              "      gap: 12px;\n",
              "    }\n",
              "\n",
              "    .colab-df-convert {\n",
              "      background-color: #E8F0FE;\n",
              "      border: none;\n",
              "      border-radius: 50%;\n",
              "      cursor: pointer;\n",
              "      display: none;\n",
              "      fill: #1967D2;\n",
              "      height: 32px;\n",
              "      padding: 0 0 0 0;\n",
              "      width: 32px;\n",
              "    }\n",
              "\n",
              "    .colab-df-convert:hover {\n",
              "      background-color: #E2EBFA;\n",
              "      box-shadow: 0px 1px 2px rgba(60, 64, 67, 0.3), 0px 1px 3px 1px rgba(60, 64, 67, 0.15);\n",
              "      fill: #174EA6;\n",
              "    }\n",
              "\n",
              "    [theme=dark] .colab-df-convert {\n",
              "      background-color: #3B4455;\n",
              "      fill: #D2E3FC;\n",
              "    }\n",
              "\n",
              "    [theme=dark] .colab-df-convert:hover {\n",
              "      background-color: #434B5C;\n",
              "      box-shadow: 0px 1px 3px 1px rgba(0, 0, 0, 0.15);\n",
              "      filter: drop-shadow(0px 1px 2px rgba(0, 0, 0, 0.3));\n",
              "      fill: #FFFFFF;\n",
              "    }\n",
              "  </style>\n",
              "\n",
              "      <script>\n",
              "        const buttonEl =\n",
              "          document.querySelector('#df-47b232ca-8229-43e9-9563-86882c39fea1 button.colab-df-convert');\n",
              "        buttonEl.style.display =\n",
              "          google.colab.kernel.accessAllowed ? 'block' : 'none';\n",
              "\n",
              "        async function convertToInteractive(key) {\n",
              "          const element = document.querySelector('#df-47b232ca-8229-43e9-9563-86882c39fea1');\n",
              "          const dataTable =\n",
              "            await google.colab.kernel.invokeFunction('convertToInteractive',\n",
              "                                                     [key], {});\n",
              "          if (!dataTable) return;\n",
              "\n",
              "          const docLinkHtml = 'Like what you see? Visit the ' +\n",
              "            '<a target=\"_blank\" href=https://colab.research.google.com/notebooks/data_table.ipynb>data table notebook</a>'\n",
              "            + ' to learn more about interactive tables.';\n",
              "          element.innerHTML = '';\n",
              "          dataTable['output_type'] = 'display_data';\n",
              "          await google.colab.output.renderOutput(dataTable, element);\n",
              "          const docLink = document.createElement('div');\n",
              "          docLink.innerHTML = docLinkHtml;\n",
              "          element.appendChild(docLink);\n",
              "        }\n",
              "      </script>\n",
              "    </div>\n",
              "  </div>\n",
              "  "
            ]
          },
          "metadata": {},
          "execution_count": 5
        }
      ],
      "source": [
        "data.head()"
      ]
    },
    {
      "cell_type": "code",
      "execution_count": 16,
      "metadata": {
        "id": "fuqbkNU1qoG4"
      },
      "outputs": [],
      "source": [
        "# Path to the images\n",
        "IMAGES_PATH = \"Flicker8k_Dataset\"\n",
        "\n",
        "# Desired image dimensions\n",
        "IMAGE_SIZE = (299, 299)\n",
        "\n",
        "# Vocabulary size\n",
        "VOCAB_SIZE = 10000\n",
        "\n",
        "#Sequence length\n",
        "SEQ_LENGTH = 12\n",
        "\n",
        "# Dimension for the image embeddings and token embeddings\n",
        "EMBED_DIM = 512\n",
        "\n",
        "# Per-layer units in the feed-forward network\n",
        "FF_DIM = 512\n",
        "\n",
        "# Other training parameters\n",
        "BATCH_SIZE = 64\n",
        "EPOCHS = 20\n",
        "AUTOTUNE = tf.data.AUTOTUNE"
      ]
    },
    {
      "cell_type": "markdown",
      "metadata": {
        "id": "B8BRjgoY59M6"
      },
      "source": [
        "#Preparing the Dataset"
      ]
    },
    {
      "cell_type": "code",
      "execution_count": 7,
      "metadata": {
        "id": "FiK9yZri6AEi"
      },
      "outputs": [],
      "source": [
        "#Text preprocessing has been done on the imagecaptions.csv file\n",
        "def prepare(description):\n",
        "\n",
        "      #Capitalizing the first word of each sentence of each caption\n",
        "      description = description.capitalize()\n",
        "\n",
        "      #Removing punctuations\n",
        "      description = re.sub(r'[^\\w\\s]', '', description)\n",
        "\n",
        "      #Removing extra spaces\n",
        "      description = re.sub('\\s+', ' ', description)\n",
        "      description = description.strip()\n",
        "\n",
        "      return description"
      ]
    },
    {
      "cell_type": "code",
      "execution_count": 8,
      "metadata": {
        "id": "D_VY1kOM6U56",
        "colab": {
          "base_uri": "https://localhost:8080/",
          "height": 206
        },
        "outputId": "336c1717-dcf4-43d2-96f8-a384c183545c"
      },
      "outputs": [
        {
          "output_type": "execute_result",
          "data": {
            "text/plain": [
              "                       image  \\\n",
              "0  1000268201_693b08cb0e.jpg   \n",
              "1  1000268201_693b08cb0e.jpg   \n",
              "2  1000268201_693b08cb0e.jpg   \n",
              "3  1000268201_693b08cb0e.jpg   \n",
              "4  1000268201_693b08cb0e.jpg   \n",
              "\n",
              "                                             caption  \n",
              "0  A child in a pink dress is climbing up a set o...  \n",
              "1                A girl going into a wooden building  \n",
              "2     A little girl climbing into a wooden playhouse  \n",
              "3  A little girl climbing the stairs to her playh...  \n",
              "4  A little girl in a pink dress going into a woo...  "
            ],
            "text/html": [
              "\n",
              "  <div id=\"df-d16ce2a7-34f2-49c2-ab6f-413c9a5b9879\">\n",
              "    <div class=\"colab-df-container\">\n",
              "      <div>\n",
              "<style scoped>\n",
              "    .dataframe tbody tr th:only-of-type {\n",
              "        vertical-align: middle;\n",
              "    }\n",
              "\n",
              "    .dataframe tbody tr th {\n",
              "        vertical-align: top;\n",
              "    }\n",
              "\n",
              "    .dataframe thead th {\n",
              "        text-align: right;\n",
              "    }\n",
              "</style>\n",
              "<table border=\"1\" class=\"dataframe\">\n",
              "  <thead>\n",
              "    <tr style=\"text-align: right;\">\n",
              "      <th></th>\n",
              "      <th>image</th>\n",
              "      <th>caption</th>\n",
              "    </tr>\n",
              "  </thead>\n",
              "  <tbody>\n",
              "    <tr>\n",
              "      <th>0</th>\n",
              "      <td>1000268201_693b08cb0e.jpg</td>\n",
              "      <td>A child in a pink dress is climbing up a set o...</td>\n",
              "    </tr>\n",
              "    <tr>\n",
              "      <th>1</th>\n",
              "      <td>1000268201_693b08cb0e.jpg</td>\n",
              "      <td>A girl going into a wooden building</td>\n",
              "    </tr>\n",
              "    <tr>\n",
              "      <th>2</th>\n",
              "      <td>1000268201_693b08cb0e.jpg</td>\n",
              "      <td>A little girl climbing into a wooden playhouse</td>\n",
              "    </tr>\n",
              "    <tr>\n",
              "      <th>3</th>\n",
              "      <td>1000268201_693b08cb0e.jpg</td>\n",
              "      <td>A little girl climbing the stairs to her playh...</td>\n",
              "    </tr>\n",
              "    <tr>\n",
              "      <th>4</th>\n",
              "      <td>1000268201_693b08cb0e.jpg</td>\n",
              "      <td>A little girl in a pink dress going into a woo...</td>\n",
              "    </tr>\n",
              "  </tbody>\n",
              "</table>\n",
              "</div>\n",
              "      <button class=\"colab-df-convert\" onclick=\"convertToInteractive('df-d16ce2a7-34f2-49c2-ab6f-413c9a5b9879')\"\n",
              "              title=\"Convert this dataframe to an interactive table.\"\n",
              "              style=\"display:none;\">\n",
              "        \n",
              "  <svg xmlns=\"http://www.w3.org/2000/svg\" height=\"24px\"viewBox=\"0 0 24 24\"\n",
              "       width=\"24px\">\n",
              "    <path d=\"M0 0h24v24H0V0z\" fill=\"none\"/>\n",
              "    <path d=\"M18.56 5.44l.94 2.06.94-2.06 2.06-.94-2.06-.94-.94-2.06-.94 2.06-2.06.94zm-11 1L8.5 8.5l.94-2.06 2.06-.94-2.06-.94L8.5 2.5l-.94 2.06-2.06.94zm10 10l.94 2.06.94-2.06 2.06-.94-2.06-.94-.94-2.06-.94 2.06-2.06.94z\"/><path d=\"M17.41 7.96l-1.37-1.37c-.4-.4-.92-.59-1.43-.59-.52 0-1.04.2-1.43.59L10.3 9.45l-7.72 7.72c-.78.78-.78 2.05 0 2.83L4 21.41c.39.39.9.59 1.41.59.51 0 1.02-.2 1.41-.59l7.78-7.78 2.81-2.81c.8-.78.8-2.07 0-2.86zM5.41 20L4 18.59l7.72-7.72 1.47 1.35L5.41 20z\"/>\n",
              "  </svg>\n",
              "      </button>\n",
              "      \n",
              "  <style>\n",
              "    .colab-df-container {\n",
              "      display:flex;\n",
              "      flex-wrap:wrap;\n",
              "      gap: 12px;\n",
              "    }\n",
              "\n",
              "    .colab-df-convert {\n",
              "      background-color: #E8F0FE;\n",
              "      border: none;\n",
              "      border-radius: 50%;\n",
              "      cursor: pointer;\n",
              "      display: none;\n",
              "      fill: #1967D2;\n",
              "      height: 32px;\n",
              "      padding: 0 0 0 0;\n",
              "      width: 32px;\n",
              "    }\n",
              "\n",
              "    .colab-df-convert:hover {\n",
              "      background-color: #E2EBFA;\n",
              "      box-shadow: 0px 1px 2px rgba(60, 64, 67, 0.3), 0px 1px 3px 1px rgba(60, 64, 67, 0.15);\n",
              "      fill: #174EA6;\n",
              "    }\n",
              "\n",
              "    [theme=dark] .colab-df-convert {\n",
              "      background-color: #3B4455;\n",
              "      fill: #D2E3FC;\n",
              "    }\n",
              "\n",
              "    [theme=dark] .colab-df-convert:hover {\n",
              "      background-color: #434B5C;\n",
              "      box-shadow: 0px 1px 3px 1px rgba(0, 0, 0, 0.15);\n",
              "      filter: drop-shadow(0px 1px 2px rgba(0, 0, 0, 0.3));\n",
              "      fill: #FFFFFF;\n",
              "    }\n",
              "  </style>\n",
              "\n",
              "      <script>\n",
              "        const buttonEl =\n",
              "          document.querySelector('#df-d16ce2a7-34f2-49c2-ab6f-413c9a5b9879 button.colab-df-convert');\n",
              "        buttonEl.style.display =\n",
              "          google.colab.kernel.accessAllowed ? 'block' : 'none';\n",
              "\n",
              "        async function convertToInteractive(key) {\n",
              "          const element = document.querySelector('#df-d16ce2a7-34f2-49c2-ab6f-413c9a5b9879');\n",
              "          const dataTable =\n",
              "            await google.colab.kernel.invokeFunction('convertToInteractive',\n",
              "                                                     [key], {});\n",
              "          if (!dataTable) return;\n",
              "\n",
              "          const docLinkHtml = 'Like what you see? Visit the ' +\n",
              "            '<a target=\"_blank\" href=https://colab.research.google.com/notebooks/data_table.ipynb>data table notebook</a>'\n",
              "            + ' to learn more about interactive tables.';\n",
              "          element.innerHTML = '';\n",
              "          dataTable['output_type'] = 'display_data';\n",
              "          await google.colab.output.renderOutput(dataTable, element);\n",
              "          const docLink = document.createElement('div');\n",
              "          docLink.innerHTML = docLinkHtml;\n",
              "          element.appendChild(docLink);\n",
              "        }\n",
              "      </script>\n",
              "    </div>\n",
              "  </div>\n",
              "  "
            ]
          },
          "metadata": {},
          "execution_count": 8
        }
      ],
      "source": [
        "# apply the text pre-processing on caption column\n",
        "data['caption'] = data['caption'].apply(prepare)\n",
        "data.head()"
      ]
    },
    {
      "cell_type": "markdown",
      "metadata": {
        "id": "5tp0vgnK7V3k"
      },
      "source": [
        "###Mapping captions to corresponding images"
      ]
    },
    {
      "cell_type": "code",
      "execution_count": 9,
      "metadata": {
        "id": "G8ciR0qLqtJ0",
        "colab": {
          "base_uri": "https://localhost:8080/"
        },
        "outputId": "ca61a002-13d0-464d-e996-d4d8d94abad6"
      },
      "outputs": [
        {
          "output_type": "stream",
          "name": "stdout",
          "text": [
            "Number of training samples:  6472\n",
            "Number of testing samples:  809\n",
            "Number of validation samples:  809\n"
          ]
        }
      ],
      "source": [
        "#Loads captions (text) data and maps them to corresponding images.\n",
        "#filename: Path to the text file containing caption data.\n",
        "#Returns:caption_mapping: Dictionary mapping image names and the corresponding captions\n",
        "#text_data: List containing all the available captions\n",
        "\n",
        "\n",
        "def load_captions_data(filename):\n",
        "    with open(filename) as caption_file:\n",
        "        caption_data = caption_file.readlines()\n",
        "        caption_mapping = {}\n",
        "        text_data = []\n",
        "        images_to_skip = set()\n",
        "\n",
        "        for line in caption_data:\n",
        "            line = line.rstrip(\"\\n\")\n",
        "            # Image name and captions are separated using a tab\n",
        "            img_name, caption = line.split(\"\\t\")\n",
        "\n",
        "            # Each image is repeated five times for the five different captions.\n",
        "            # Each image name has a suffix `#(caption_number)`\n",
        "            img_name = img_name.split(\"#\")[0]\n",
        "            img_name = os.path.join(IMAGES_PATH, img_name.strip())\n",
        "\n",
        "            # We will remove caption that are either too short to too long\n",
        "            #tokens = caption.strip().split()\n",
        "\n",
        "            #if len(tokens) < 5 or len(tokens) > SEQ_LENGTH:\n",
        "               # images_to_skip.add(img_name)\n",
        "               # continue\n",
        "\n",
        "            if img_name.endswith(\"jpg\") and img_name not in images_to_skip:\n",
        "                # We will add a start and an end token to each caption\n",
        "                caption = \"<start> \" + caption.strip() + \" <end>\"\n",
        "                text_data.append(caption)\n",
        "\n",
        "                if img_name in caption_mapping:\n",
        "                    caption_mapping[img_name].append(caption)\n",
        "                else:\n",
        "                    caption_mapping[img_name] = [caption]\n",
        "\n",
        "        for img_name in images_to_skip:\n",
        "            if img_name in caption_mapping:\n",
        "                del caption_mapping[img_name]\n",
        "\n",
        "        return caption_mapping, text_data\n",
        "\n",
        "\n",
        "def train_val_split(caption_data, train_size=0.8, shuffle=True):\n",
        "\n",
        "    # 1. Get the list of all image names\n",
        "    all_images = list(caption_data.keys())\n",
        "\n",
        "    # 2. The dataset is shuffled if need be\n",
        "    if shuffle:\n",
        "        np.random.shuffle(all_images)\n",
        "\n",
        "    # 3. Split into training ,testing and validation sets\n",
        "    train_size = int(len(caption_data) * train_size)\n",
        "    test_size = int(len(caption_data) * 0.1)\n",
        "    val_size = int(len(caption_data) * 0.1)\n",
        "\n",
        "    training_data = {\n",
        "        img_name: caption_data[img_name] for img_name in all_images[:train_size]\n",
        "    }\n",
        "    testing_data = {\n",
        "        img_name: caption_data[img_name] for img_name in all_images[:test_size]\n",
        "    }\n",
        "    validation_data = {\n",
        "        img_name: caption_data[img_name] for img_name in all_images[:val_size]\n",
        "    }\n",
        "\n",
        "    # 4. Return the splits\n",
        "    return training_data, testing_data, validation_data\n",
        "\n",
        "\n",
        "# Load the dataset\n",
        "captions_mapping, text_data = load_captions_data(\"Flickr8k.token.txt\")\n",
        "\n",
        "# Split the dataset into training and validation sets\n",
        "train_data,test_data, valid_data = train_val_split(captions_mapping)\n",
        "print(\"Number of training samples: \",len(train_data))\n",
        "print(\"Number of testing samples: \",len(test_data))\n",
        "print(\"Number of validation samples: \",len(valid_data))"
      ]
    },
    {
      "cell_type": "markdown",
      "metadata": {
        "id": "migjfbqp6vFM"
      },
      "source": [
        "#Vectorizing Text Data"
      ]
    },
    {
      "cell_type": "code",
      "execution_count": 10,
      "metadata": {
        "id": "0iv49adqq0Mr"
      },
      "outputs": [],
      "source": [
        "vectorization = TextVectorization(\n",
        "    max_tokens=VOCAB_SIZE,\n",
        "    output_mode=\"int\",\n",
        "    output_sequence_length=SEQ_LENGTH,\n",
        "    standardize=\"lower_and_strip_punctuation\",\n",
        ")\n",
        "vectorization.adapt(text_data)\n",
        "\n",
        "# Data augmentation for image data\n",
        "image_augmentation = keras.Sequential([layers.RandomFlip(\"horizontal\"),layers.RandomRotation(0.2),layers.RandomContrast(0.3),])"
      ]
    },
    {
      "cell_type": "code",
      "execution_count": 11,
      "metadata": {
        "id": "G1UmfSoS6lBq",
        "colab": {
          "base_uri": "https://localhost:8080/"
        },
        "outputId": "0d720698-e6fb-4040-e062-f95e6d268807"
      },
      "outputs": [
        {
          "output_type": "execute_result",
          "data": {
            "text/plain": [
              "<tf.Tensor: shape=(1, 12), dtype=int64, numpy=array([[  2,  43,   5,   2,  91, 171,   0,   0,   0,   0,   0,   0]])>"
            ]
          },
          "metadata": {},
          "execution_count": 11
        }
      ],
      "source": [
        "# Let's test the `textvectorizer`\n",
        "vectorization(['a child in a pink dress'])"
      ]
    },
    {
      "cell_type": "markdown",
      "metadata": {
        "id": "07TMgjSniMyc"
      },
      "source": [
        "###Splitting the dataset into train and validation sets"
      ]
    },
    {
      "cell_type": "code",
      "execution_count": 12,
      "metadata": {
        "id": "rizusGuVq5yR"
      },
      "outputs": [],
      "source": [
        "def decode_and_resize(IMAGES_PATH):\n",
        "    img = tf.io.read_file(IMAGES_PATH)\n",
        "    img = tf.image.decode_jpeg(img, channels=3)\n",
        "    img = tf.image.resize(img, IMAGE_SIZE)\n",
        "    img = tf.image.convert_image_dtype(img, tf.float32)\n",
        "    return img\n",
        "\n",
        "\n",
        "def process_input(IMAGES_PATH, captions):\n",
        "    return decode_and_resize(IMAGES_PATH), vectorization(captions)\n",
        "\n",
        "\n",
        "def make_dataset(images, captions):\n",
        "    dataset = tf.data.Dataset.from_tensor_slices((images, captions))\n",
        "    dataset = dataset.shuffle(BATCH_SIZE * 8)\n",
        "    dataset = dataset.map(process_input, num_parallel_calls=AUTOTUNE)\n",
        "    dataset = dataset.batch(BATCH_SIZE).prefetch(AUTOTUNE)\n",
        "\n",
        "    return dataset\n",
        "\n",
        "\n",
        "# Pass the list of images and the list of corresponding captions\n",
        "train_dataset = make_dataset(list(train_data.keys()), list(train_data.values()))\n",
        "\n",
        "valid_dataset = make_dataset(list(valid_data.keys()), list(valid_data.values()))"
      ]
    },
    {
      "cell_type": "markdown",
      "metadata": {
        "id": "0VGfHuaIFNQQ"
      },
      "source": [
        "#Building the Model"
      ]
    },
    {
      "cell_type": "markdown",
      "metadata": {
        "id": "L5IiGIlrJho4"
      },
      "source": [
        "###Feature Extraction using CNN"
      ]
    },
    {
      "cell_type": "code",
      "execution_count": 13,
      "metadata": {
        "id": "B7BajtvxrAhK"
      },
      "outputs": [],
      "source": [
        "def get_cnn_model():\n",
        "    base_model = tf.keras.applications.InceptionV3(input_shape=(*IMAGE_SIZE, 3),include_top= False,weights='imagenet')\n",
        "    #efficientnet.EfficientNetB0(input_shape=(*IMAGE_SIZE, 3), include_top=False, weights=\"imagenet\",)\n",
        "    # We freeze our feature extractor\n",
        "    base_model.trainable = False\n",
        "    base_model_out = base_model.output\n",
        "    base_model_out = layers.Reshape((-1, base_model_out.shape[-1]))(base_model_out)\n",
        "    cnn_model = keras.models.Model(base_model.input, base_model_out)\n",
        "    return cnn_model"
      ]
    },
    {
      "cell_type": "markdown",
      "source": [
        "#Feature Vectors"
      ],
      "metadata": {
        "id": "g3UnQavM8Pcc"
      }
    },
    {
      "cell_type": "code",
      "source": [],
      "metadata": {
        "id": "y5ENaTsH8TpZ"
      },
      "execution_count": null,
      "outputs": []
    },
    {
      "cell_type": "markdown",
      "metadata": {
        "id": "xWLiXIWUJ_Xq"
      },
      "source": [
        "###Transformer Encoder and Decoder "
      ]
    },
    {
      "cell_type": "code",
      "execution_count": 14,
      "metadata": {
        "id": "LE8M6l0wFHd5",
        "colab": {
          "base_uri": "https://localhost:8080/"
        },
        "outputId": "8ef3785d-d3be-4c0b-9c63-b4532d3bf684"
      },
      "outputs": [
        {
          "output_type": "stream",
          "name": "stdout",
          "text": [
            "Downloading data from https://storage.googleapis.com/tensorflow/keras-applications/inception_v3/inception_v3_weights_tf_dim_ordering_tf_kernels_notop.h5\n",
            "87910968/87910968 [==============================] - 1s 0us/step\n"
          ]
        }
      ],
      "source": [
        "class TransformerEncoderBlock(layers.Layer):\n",
        "    def __init__(self, embed_dim, dense_dim, num_heads, **kwargs):\n",
        "        super().__init__(**kwargs)\n",
        "        self.embed_dim = embed_dim\n",
        "        self.dense_dim = dense_dim\n",
        "        self.num_heads = num_heads\n",
        "        self.attention_1 = layers.MultiHeadAttention(\n",
        "            num_heads=num_heads, key_dim=embed_dim, dropout=0.0\n",
        "        )\n",
        "        self.layernorm_1 = layers.LayerNormalization()\n",
        "        self.layernorm_2 = layers.LayerNormalization()\n",
        "        self.dense_1 = layers.Dense(embed_dim, activation=\"relu\")\n",
        "\n",
        "    def call(self, inputs, training, mask=None):\n",
        "        inputs = self.layernorm_1(inputs)\n",
        "        inputs = self.dense_1(inputs)\n",
        "\n",
        "        attention_output_1 = self.attention_1(\n",
        "            query=inputs,\n",
        "            value=inputs,\n",
        "            key=inputs,\n",
        "            attention_mask=None,\n",
        "            training=training,\n",
        "        )\n",
        "        out_1 = self.layernorm_2(inputs + attention_output_1)\n",
        "        return out_1\n",
        "\n",
        "\n",
        "class PositionalEmbedding(layers.Layer):\n",
        "    def __init__(self, sequence_length, vocab_size, embed_dim, **kwargs):\n",
        "        super().__init__(**kwargs)\n",
        "        self.token_embeddings = layers.Embedding(\n",
        "            input_dim=vocab_size, output_dim=embed_dim\n",
        "        )\n",
        "        self.position_embeddings = layers.Embedding(\n",
        "            input_dim=sequence_length, output_dim=embed_dim\n",
        "        )\n",
        "        self.sequence_length = sequence_length\n",
        "        self.vocab_size = vocab_size\n",
        "        self.embed_dim = embed_dim\n",
        "        self.embed_scale = tf.math.sqrt(tf.cast(embed_dim, tf.float32))\n",
        "\n",
        "    def call(self, inputs):\n",
        "        length = tf.shape(inputs)[-1]\n",
        "        positions = tf.range(start=0, limit=length, delta=1)\n",
        "        embedded_tokens = self.token_embeddings(inputs)\n",
        "        embedded_tokens = embedded_tokens * self.embed_scale\n",
        "        embedded_positions = self.position_embeddings(positions)\n",
        "        return embedded_tokens + embedded_positions\n",
        "\n",
        "    def compute_mask(self, inputs, mask=None):\n",
        "        return tf.math.not_equal(inputs, 0)\n",
        "\n",
        "\n",
        "class TransformerDecoderBlock(layers.Layer):\n",
        "    def __init__(self, embed_dim, ff_dim, num_heads, **kwargs):\n",
        "        super().__init__(**kwargs)\n",
        "        self.embed_dim = embed_dim\n",
        "        self.ff_dim = ff_dim\n",
        "        self.num_heads = num_heads\n",
        "        self.attention_1 = layers.MultiHeadAttention(\n",
        "            num_heads=num_heads, key_dim=embed_dim, dropout=0.1\n",
        "        )\n",
        "        self.attention_2 = layers.MultiHeadAttention(\n",
        "            num_heads=num_heads, key_dim=embed_dim, dropout=0.1\n",
        "        )\n",
        "        self.ffn_layer_1 = layers.Dense(ff_dim, activation=\"relu\")\n",
        "        self.ffn_layer_2 = layers.Dense(embed_dim)\n",
        "\n",
        "        self.layernorm_1 = layers.LayerNormalization()\n",
        "        self.layernorm_2 = layers.LayerNormalization()\n",
        "        self.layernorm_3 = layers.LayerNormalization()\n",
        "\n",
        "        self.embedding = PositionalEmbedding(\n",
        "            embed_dim=EMBED_DIM, sequence_length=SEQ_LENGTH, vocab_size=VOCAB_SIZE\n",
        "        )\n",
        "        self.out = layers.Dense(VOCAB_SIZE, activation=\"softmax\")\n",
        "\n",
        "        self.dropout_1 = layers.Dropout(0.3)\n",
        "        self.dropout_2 = layers.Dropout(0.5)\n",
        "        self.supports_masking = True\n",
        "\n",
        "    def call(self, inputs, encoder_outputs, training, mask=None):\n",
        "        inputs = self.embedding(inputs)\n",
        "        causal_mask = self.get_causal_attention_mask(inputs)\n",
        "\n",
        "        if mask is not None:\n",
        "            padding_mask = tf.cast(mask[:, :, tf.newaxis], dtype=tf.int32)\n",
        "            combined_mask = tf.cast(mask[:, tf.newaxis, :], dtype=tf.int32)\n",
        "            combined_mask = tf.minimum(combined_mask, causal_mask)\n",
        "\n",
        "        attention_output_1 = self.attention_1(\n",
        "            query=inputs,\n",
        "            value=inputs,\n",
        "            key=inputs,\n",
        "            attention_mask=combined_mask,\n",
        "            training=training,\n",
        "        )\n",
        "        out_1 = self.layernorm_1(inputs + attention_output_1)\n",
        "\n",
        "        attention_output_2 = self.attention_2(\n",
        "            query=out_1,\n",
        "            value=encoder_outputs,\n",
        "            key=encoder_outputs,\n",
        "            attention_mask=padding_mask,\n",
        "            training=training,\n",
        "        )\n",
        "        out_2 = self.layernorm_2(out_1 + attention_output_2)\n",
        "\n",
        "        ffn_out = self.ffn_layer_1(out_2)\n",
        "        ffn_out = self.dropout_1(ffn_out, training=training)\n",
        "        ffn_out = self.ffn_layer_2(ffn_out)\n",
        "\n",
        "        ffn_out = self.layernorm_3(ffn_out + out_2, training=training)\n",
        "        ffn_out = self.dropout_2(ffn_out, training=training)\n",
        "        preds = self.out(ffn_out)\n",
        "        return preds\n",
        "\n",
        "    def get_causal_attention_mask(self, inputs):\n",
        "        input_shape = tf.shape(inputs)\n",
        "        batch_size, sequence_length = input_shape[0], input_shape[1]\n",
        "        i = tf.range(sequence_length)[:, tf.newaxis]\n",
        "        j = tf.range(sequence_length)\n",
        "        mask = tf.cast(i >= j, dtype=\"int32\")\n",
        "        mask = tf.reshape(mask, (1, input_shape[1], input_shape[1]))\n",
        "        mult = tf.concat(\n",
        "            [tf.expand_dims(batch_size, -1), tf.constant([1, 1], dtype=tf.int32)],\n",
        "            axis=0,\n",
        "        )\n",
        "        return tf.tile(mask, mult)\n",
        "\n",
        "\n",
        "class ImageCaptioningModel(keras.Model):\n",
        "    def __init__(\n",
        "        self, cnn_model, encoder, decoder, num_captions_per_image=5, image_aug=None,\n",
        "    ):\n",
        "        super().__init__()\n",
        "        self.cnn_model = cnn_model\n",
        "        self.encoder = encoder\n",
        "        self.decoder = decoder\n",
        "        self.loss_tracker = keras.metrics.Mean(name=\"loss\")\n",
        "        self.acc_tracker = keras.metrics.Mean(name=\"accuracy\")\n",
        "        self.num_captions_per_image = num_captions_per_image\n",
        "        self.image_aug = image_aug\n",
        "\n",
        "    def calculate_loss(self, y_true, y_pred, mask):\n",
        "        loss = self.loss(y_true, y_pred)\n",
        "        mask = tf.cast(mask, dtype=loss.dtype)\n",
        "        loss *= mask\n",
        "        return tf.reduce_sum(loss) / tf.reduce_sum(mask)\n",
        "\n",
        "    def calculate_accuracy(self, y_true, y_pred, mask):\n",
        "        accuracy = tf.equal(y_true, tf.argmax(y_pred, axis=2))\n",
        "        accuracy = tf.math.logical_and(mask, accuracy)\n",
        "        accuracy = tf.cast(accuracy, dtype=tf.float32)\n",
        "        mask = tf.cast(mask, dtype=tf.float32)\n",
        "        return tf.reduce_sum(accuracy) / tf.reduce_sum(mask)\n",
        "\n",
        "    def _compute_caption_loss_and_acc(self, img_embed, batch_seq, training=True):\n",
        "        encoder_out = self.encoder(img_embed, training=training)\n",
        "        batch_seq_inp = batch_seq[:, :-1]\n",
        "        batch_seq_true = batch_seq[:, 1:]\n",
        "        mask = tf.math.not_equal(batch_seq_true, 0)\n",
        "        batch_seq_pred = self.decoder(\n",
        "            batch_seq_inp, encoder_out, training=training, mask=mask\n",
        "        )\n",
        "        loss = self.calculate_loss(batch_seq_true, batch_seq_pred, mask)\n",
        "        acc = self.calculate_accuracy(batch_seq_true, batch_seq_pred, mask)\n",
        "        return loss, acc\n",
        "\n",
        "    def train_step(self, batch_data):\n",
        "        batch_img, batch_seq = batch_data\n",
        "        batch_loss = 0\n",
        "        batch_acc = 0\n",
        "\n",
        "        if self.image_aug:\n",
        "            batch_img = self.image_aug(batch_img)\n",
        "\n",
        "        # 1. Get image embeddings\n",
        "        img_embed = self.cnn_model(batch_img)\n",
        "\n",
        "        # 2. Pass each of the five captions one by one to the decoder\n",
        "        # along with the encoder outputs and compute the loss as well as accuracy\n",
        "        # for each caption.\n",
        "        for i in range(self.num_captions_per_image):\n",
        "            with tf.GradientTape() as tape:\n",
        "                loss, acc = self._compute_caption_loss_and_acc(\n",
        "                    img_embed, batch_seq[:, i, :], training=True\n",
        "                )\n",
        "\n",
        "                # 3. Update loss and accuracy\n",
        "                batch_loss += loss\n",
        "                batch_acc += acc\n",
        "\n",
        "            # 4. Get the list of all the trainable weights\n",
        "            train_vars = (\n",
        "                self.encoder.trainable_variables + self.decoder.trainable_variables\n",
        "            )\n",
        "\n",
        "            # 5. Get the gradients\n",
        "            grads = tape.gradient(loss, train_vars)\n",
        "\n",
        "            # 6. Update the trainable weights\n",
        "            self.optimizer.apply_gradients(zip(grads, train_vars))\n",
        "\n",
        "        # 7. Update the trackers\n",
        "        batch_acc /= float(self.num_captions_per_image)\n",
        "        self.loss_tracker.update_state(batch_loss)\n",
        "        self.acc_tracker.update_state(batch_acc)\n",
        "\n",
        "        # 8. Return the loss and accuracy values\n",
        "        return {\"loss\": self.loss_tracker.result(), \"acc\": self.acc_tracker.result()}\n",
        "\n",
        "    def test_step(self, batch_data):\n",
        "        batch_img, batch_seq = batch_data\n",
        "        batch_loss = 0\n",
        "        batch_acc = 0\n",
        "\n",
        "        # 1. Get image embeddings\n",
        "        img_embed = self.cnn_model(batch_img)\n",
        "\n",
        "        # 2. Pass each of the five captions one by one to the decoder\n",
        "        # along with the encoder outputs and compute the loss as well as accuracy\n",
        "        # for each caption.\n",
        "        for i in range(self.num_captions_per_image):\n",
        "            loss, acc = self._compute_caption_loss_and_acc(\n",
        "                img_embed, batch_seq[:, i, :], training=False\n",
        "            )\n",
        "\n",
        "            # 3. Update batch loss and batch accuracy\n",
        "            batch_loss += loss\n",
        "            batch_acc += acc\n",
        "\n",
        "        batch_acc /= float(self.num_captions_per_image)\n",
        "\n",
        "        # 4. Update the trackers\n",
        "        self.loss_tracker.update_state(batch_loss)\n",
        "        self.acc_tracker.update_state(batch_acc)\n",
        "\n",
        "        # 5. Return the loss and accuracy values\n",
        "        return {\"loss\": self.loss_tracker.result(), \"acc\": self.acc_tracker.result()}\n",
        "\n",
        "    @property\n",
        "    def metrics(self):\n",
        "        # We need to list our metrics here so the `reset_states()` can be\n",
        "        # called automatically.\n",
        "        return [self.loss_tracker, self.acc_tracker]\n",
        "\n",
        "\n",
        "cnn_model = get_cnn_model()\n",
        "encoder = TransformerEncoderBlock(embed_dim=EMBED_DIM, dense_dim=FF_DIM, num_heads=1)\n",
        "decoder = TransformerDecoderBlock(embed_dim=EMBED_DIM, ff_dim=FF_DIM, num_heads=2)\n",
        "caption_model = ImageCaptioningModel(\n",
        "    cnn_model=cnn_model, encoder=encoder, decoder=decoder, image_aug=image_augmentation,\n",
        ")"
      ]
    },
    {
      "cell_type": "markdown",
      "metadata": {
        "id": "ZVuGadD16_ei"
      },
      "source": [
        "#Training the Model"
      ]
    },
    {
      "cell_type": "code",
      "source": [
        "# Define the loss function\n",
        "cross_entropy = keras.losses.SparseCategoricalCrossentropy(\n",
        "    from_logits=False, reduction=\"none\"\n",
        ")\n",
        "\n",
        "# EarlyStopping criteria\n",
        "#early_stopping = keras.callbacks.EarlyStopping(patience=3, restore_best_weights=True)\n",
        "\n",
        "\n",
        "# Learning Rate Scheduler for the optimizer\n",
        "class LRSchedule(keras.optimizers.schedules.LearningRateSchedule):\n",
        "    def __init__(self, post_warmup_learning_rate, warmup_steps):\n",
        "       super().__init__()\n",
        "       self.post_warmup_learning_rate = post_warmup_learning_rate\n",
        "       self.warmup_steps = warmup_steps\n",
        "\n",
        "    def __call__(self, step):\n",
        "      global_step = tf.cast(step, tf.float32)\n",
        "      warmup_steps = tf.cast(self.warmup_steps, tf.float32)\n",
        "      warmup_progress = global_step / warmup_steps\n",
        "      warmup_learning_rate = self.post_warmup_learning_rate * warmup_progress\n",
        "      return tf.cond(\n",
        "        global_step < warmup_steps,\n",
        "          lambda: warmup_learning_rate,\n",
        "          lambda: self.post_warmup_learning_rate,\n",
        "       )\n",
        "\n",
        "\n",
        "# Create a learning rate schedule\n",
        "num_train_steps = len(train_dataset) * EPOCHS\n",
        "num_warmup_steps = num_train_steps // 15\n",
        "lr_schedule = LRSchedule(post_warmup_learning_rate=1e-4, warmup_steps=num_warmup_steps)"
      ],
      "metadata": {
        "id": "tMtNN9ddnWU7"
      },
      "execution_count": 15,
      "outputs": []
    },
    {
      "cell_type": "code",
      "source": [
        "# Compile the model\n",
        "caption_model.compile(optimizer=keras.optimizers.Adam(lr_schedule), loss=cross_entropy)\n",
        "\n",
        "# Fit the model\n",
        "caption_model.fit(\n",
        "    train_dataset,\n",
        "    epochs=EPOCHS,\n",
        "    validation_data=valid_dataset,\n",
        ")"
      ],
      "metadata": {
        "id": "lArEx2zB6CxZ",
        "colab": {
          "base_uri": "https://localhost:8080/"
        },
        "outputId": "a733da49-0b36-4543-b2f7-adf004c316cc"
      },
      "execution_count": 17,
      "outputs": [
        {
          "output_type": "stream",
          "name": "stdout",
          "text": [
            "Epoch 1/20\n",
            "102/102 [==============================] - 85s 607ms/step - loss: 24.5285 - acc: 0.1859 - val_loss: 19.9342 - val_acc: 0.2993\n",
            "Epoch 2/20\n",
            "102/102 [==============================] - 55s 535ms/step - loss: 19.3923 - acc: 0.2995 - val_loss: 18.0825 - val_acc: 0.3289\n",
            "Epoch 3/20\n",
            "102/102 [==============================] - 54s 525ms/step - loss: 18.0561 - acc: 0.3248 - val_loss: 17.0062 - val_acc: 0.3462\n",
            "Epoch 4/20\n",
            "102/102 [==============================] - 54s 525ms/step - loss: 17.2172 - acc: 0.3371 - val_loss: 16.2702 - val_acc: 0.3583\n",
            "Epoch 5/20\n",
            "102/102 [==============================] - 54s 527ms/step - loss: 16.5812 - acc: 0.3482 - val_loss: 15.6814 - val_acc: 0.3687\n",
            "Epoch 6/20\n",
            "102/102 [==============================] - 55s 534ms/step - loss: 16.0226 - acc: 0.3574 - val_loss: 15.2486 - val_acc: 0.3726\n",
            "Epoch 7/20\n",
            "102/102 [==============================] - 55s 533ms/step - loss: 15.5361 - acc: 0.3653 - val_loss: 14.7098 - val_acc: 0.3864\n",
            "Epoch 8/20\n",
            "102/102 [==============================] - 54s 526ms/step - loss: 15.0636 - acc: 0.3750 - val_loss: 14.2694 - val_acc: 0.3961\n",
            "Epoch 9/20\n",
            "102/102 [==============================] - 55s 535ms/step - loss: 14.6300 - acc: 0.3828 - val_loss: 13.9091 - val_acc: 0.4045\n",
            "Epoch 10/20\n",
            "102/102 [==============================] - 55s 536ms/step - loss: 14.2421 - acc: 0.3928 - val_loss: 13.4617 - val_acc: 0.4108\n",
            "Epoch 11/20\n",
            "102/102 [==============================] - 55s 533ms/step - loss: 13.8081 - acc: 0.4036 - val_loss: 13.1690 - val_acc: 0.4177\n",
            "Epoch 12/20\n",
            "102/102 [==============================] - 54s 529ms/step - loss: 13.4026 - acc: 0.4131 - val_loss: 12.6521 - val_acc: 0.4307\n",
            "Epoch 13/20\n",
            "102/102 [==============================] - 54s 526ms/step - loss: 13.0134 - acc: 0.4226 - val_loss: 12.2083 - val_acc: 0.4452\n",
            "Epoch 14/20\n",
            "102/102 [==============================] - 55s 534ms/step - loss: 12.6585 - acc: 0.4318 - val_loss: 11.8918 - val_acc: 0.4589\n",
            "Epoch 15/20\n",
            "102/102 [==============================] - 55s 536ms/step - loss: 12.2970 - acc: 0.4437 - val_loss: 11.4891 - val_acc: 0.4666\n",
            "Epoch 16/20\n",
            "102/102 [==============================] - 54s 531ms/step - loss: 11.9399 - acc: 0.4534 - val_loss: 11.1448 - val_acc: 0.4790\n",
            "Epoch 17/20\n",
            "102/102 [==============================] - 55s 537ms/step - loss: 11.6091 - acc: 0.4623 - val_loss: 10.7766 - val_acc: 0.4892\n",
            "Epoch 18/20\n",
            "102/102 [==============================] - 54s 527ms/step - loss: 11.2910 - acc: 0.4728 - val_loss: 10.3375 - val_acc: 0.5087\n",
            "Epoch 19/20\n",
            "102/102 [==============================] - 55s 541ms/step - loss: 10.9787 - acc: 0.4823 - val_loss: 10.1913 - val_acc: 0.5104\n",
            "Epoch 20/20\n",
            "102/102 [==============================] - 55s 540ms/step - loss: 10.6860 - acc: 0.4905 - val_loss: 9.8089 - val_acc: 0.5220\n"
          ]
        },
        {
          "output_type": "execute_result",
          "data": {
            "text/plain": [
              "<keras.callbacks.History at 0x7f31c0185d60>"
            ]
          },
          "metadata": {},
          "execution_count": 17
        }
      ]
    },
    {
      "cell_type": "markdown",
      "metadata": {
        "id": "CmEMGsFdKOUw"
      },
      "source": [
        "#Making Predictions"
      ]
    },
    {
      "cell_type": "code",
      "execution_count": 77,
      "metadata": {
        "id": "kMNde_Poriv6",
        "colab": {
          "base_uri": "https://localhost:8080/",
          "height": 345
        },
        "outputId": "8d0106b3-e78f-4c05-be44-e255bdce704e"
      },
      "outputs": [
        {
          "output_type": "display_data",
          "data": {
            "text/plain": [
              "<Figure size 432x288 with 1 Axes>"
            ],
            "image/png": "[encoded data removed]"
          },
          "metadata": {
            "needs_background": "light"
          }
        },
        {
          "output_type": "stream",
          "name": "stdout",
          "text": [
            "a boy does a skateboard trick on a wooden bench end\n"
          ]
        },
        {
          "output_type": "execute_result",
          "data": {
            "text/plain": [
              "<IPython.lib.display.Audio object>"
            ],
            "text/html": [
              "\n",
              "                <audio  controls=\"controls\" autoplay=\"autoplay\">\n",
              "                    <source src=\"data:audio/x-wav;base64,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\" type=\"audio/x-wav\" />\n",
              "                    Your browser does not support the audio element.\n",
              "                </audio>\n",
              "              "
            ]
          },
          "metadata": {},
          "execution_count": 77
        }
      ],
      "source": [
        "vocab = vectorization.get_vocabulary()\n",
        "index_lookup = dict(zip(range(len(vocab)), vocab))\n",
        "max_decoded_sentence_length = SEQ_LENGTH - 1\n",
        "valid_images = list(valid_data.keys())\n",
        "\n",
        "\n",
        "#def generate_caption():\n",
        "# Select a random image from the validation dataset\n",
        "sample_img = np.random.choice(valid_images)\n",
        "\n",
        "# Read the image from the disk\n",
        "sample_img = decode_and_resize(sample_img)\n",
        "img = sample_img.numpy().clip(0, 255).astype(np.uint8)\n",
        "plt.imshow(img)\n",
        "plt.show()\n",
        "\n",
        "# Pass the image to the CNN\n",
        "img = tf.expand_dims(sample_img, 0)\n",
        "img = caption_model.cnn_model(img)\n",
        "\n",
        "# Pass the image features to the Transformer encoder\n",
        "encoded_img = caption_model.encoder(img, training=False)\n",
        "\n",
        "# Generate the caption using the Transformer decoder\n",
        "decoded_caption = \"<start> \"\n",
        "for i in range(max_decoded_sentence_length):\n",
        "    tokenized_caption = vectorization([decoded_caption])[:, :-1]\n",
        "    mask = tf.math.not_equal(tokenized_caption, 0)\n",
        "    predictions = caption_model.decoder(tokenized_caption, encoded_img, training=False, mask=mask)\n",
        "    sampled_token_index = np.argmax(predictions[0, i, :])\n",
        "    sampled_token = index_lookup[sampled_token_index]\n",
        "    if sampled_token == \" <end>\":\n",
        "        break\n",
        "    decoded_caption += \" \" + sampled_token\n",
        "\n",
        "decoded_caption = decoded_caption.replace(\"<start> \", \"\")\n",
        "decoded_caption = decoded_caption.replace(\" <end>\", \"\").strip()\n",
        "\n",
        "#Displays the decoded caption in a textual format\n",
        "print(decoded_caption)\n",
        "\n",
        "from gtts import gTTS #Import Google Text to Speech\n",
        "from IPython.display import Audio #Import Audio method from IPython's Display Class\n",
        "tts = gTTS(decoded_caption) #Provide the string to convert to speech\n",
        "tts.save('1.wav') #save the string converted to speech as a .wav file\n",
        "sound_file = '1.wav'\n",
        "Audio(sound_file, autoplay=True) \n",
        "\n",
        "#Autoplay = True will play the sound automatically\n",
        "#If you would not like to play the sound automatically, simply pass Autoplay = False.\n",
        "\n",
        "# Check predictions for a few samples\n",
        "#generate_caption()\n"
      ]
    },
    {
      "cell_type": "markdown",
      "source": [
        "##Testing the model in a web application"
      ],
      "metadata": {
        "id": "3y2NcE3zNZ8a"
      }
    },
    {
      "cell_type": "code",
      "source": [
        "!pip install gradio"
      ],
      "metadata": {
        "id": "tPt10mh8NZXK",
        "colab": {
          "base_uri": "https://localhost:8080/"
        },
        "outputId": "a436579c-20e1-4462-813d-f50c1f419c26"
      },
      "execution_count": 78,
      "outputs": [
        {
          "output_type": "stream",
          "name": "stdout",
          "text": [
            "Looking in indexes: https://pypi.org/simple, https://us-python.pkg.dev/colab-wheels/public/simple/\n",
            "Collecting gradio\n",
            "  Downloading gradio-3.14.0-py3-none-any.whl (13.8 MB)\n",
            "\u001b[K     |████████████████████████████████| 13.8 MB 4.4 MB/s \n",
            "\u001b[?25hRequirement already satisfied: jinja2 in /usr/local/lib/python3.8/dist-packages (from gradio) (2.11.3)\n",
            "Requirement already satisfied: pandas in /usr/local/lib/python3.8/dist-packages (from gradio) (1.3.5)\n",
            "Collecting python-multipart\n",
            "  Downloading python-multipart-0.0.5.tar.gz (32 kB)\n",
            "Requirement already satisfied: altair in /usr/local/lib/python3.8/dist-packages (from gradio) (4.2.0)\n",
            "Requirement already satisfied: markupsafe in /usr/local/lib/python3.8/dist-packages (from gradio) (2.0.1)\n",
            "Collecting uvicorn\n",
            "  Downloading uvicorn-0.20.0-py3-none-any.whl (56 kB)\n",
            "\u001b[K     |████████████████████████████████| 56 kB 6.0 MB/s \n",
            "\u001b[?25hRequirement already satisfied: pyyaml in /usr/local/lib/python3.8/dist-packages (from gradio) (6.0)\n",
            "Collecting websockets>=10.0\n",
            "  Downloading websockets-10.4-cp38-cp38-manylinux_2_5_x86_64.manylinux1_x86_64.manylinux_2_17_x86_64.manylinux2014_x86_64.whl (106 kB)\n",
            "\u001b[K     |████████████████████████████████| 106 kB 81.1 MB/s \n",
            "\u001b[?25hRequirement already satisfied: aiohttp in /usr/local/lib/python3.8/dist-packages (from gradio) (3.8.3)\n",
            "Collecting markdown-it-py[linkify,plugins]\n",
            "  Downloading markdown_it_py-2.1.0-py3-none-any.whl (84 kB)\n",
            "\u001b[K     |████████████████████████████████| 84 kB 4.1 MB/s \n",
            "\u001b[?25hCollecting pydub\n",
            "  Downloading pydub-0.25.1-py2.py3-none-any.whl (32 kB)\n",
            "Collecting fastapi\n",
            "  Downloading fastapi-0.88.0-py3-none-any.whl (55 kB)\n",
            "\u001b[K     |████████████████████████████████| 55 kB 4.4 MB/s \n",
            "\u001b[?25hRequirement already satisfied: pillow in /usr/local/lib/python3.8/dist-packages (from gradio) (7.1.2)\n",
            "Collecting httpx\n",
            "  Downloading httpx-0.23.1-py3-none-any.whl (84 kB)\n",
            "\u001b[K     |████████████████████████████████| 84 kB 4.6 MB/s \n",
            "\u001b[?25hRequirement already satisfied: fsspec in /usr/local/lib/python3.8/dist-packages (from gradio) (2022.11.0)\n",
            "Collecting ffmpy\n",
            "  Downloading ffmpy-0.3.0.tar.gz (4.8 kB)\n",
            "Collecting pycryptodome\n",
            "  Downloading pycryptodome-3.16.0-cp35-abi3-manylinux_2_5_x86_64.manylinux1_x86_64.manylinux_2_12_x86_64.manylinux2010_x86_64.whl (2.3 MB)\n",
            "\u001b[K     |████████████████████████████████| 2.3 MB 63.0 MB/s \n",
            "\u001b[?25hRequirement already satisfied: matplotlib in /usr/local/lib/python3.8/dist-packages (from gradio) (3.2.2)\n",
            "Collecting orjson\n",
            "  Downloading orjson-3.8.3-cp38-cp38-manylinux_2_17_x86_64.manylinux2014_x86_64.whl (278 kB)\n",
            "\u001b[K     |████████████████████████████████| 278 kB 79.4 MB/s \n",
            "\u001b[?25hRequirement already satisfied: numpy in /usr/local/lib/python3.8/dist-packages (from gradio) (1.21.6)\n",
            "Requirement already satisfied: requests in /usr/local/lib/python3.8/dist-packages (from gradio) (2.28.1)\n",
            "Requirement already satisfied: pydantic in /usr/local/lib/python3.8/dist-packages (from gradio) (1.10.2)\n",
            "Requirement already satisfied: frozenlist>=1.1.1 in /usr/local/lib/python3.8/dist-packages (from aiohttp->gradio) (1.3.3)\n",
            "Requirement already satisfied: attrs>=17.3.0 in /usr/local/lib/python3.8/dist-packages (from aiohttp->gradio) (22.1.0)\n",
            "Requirement already satisfied: aiosignal>=1.1.2 in /usr/local/lib/python3.8/dist-packages (from aiohttp->gradio) (1.3.1)\n",
            "Requirement already satisfied: multidict<7.0,>=4.5 in /usr/local/lib/python3.8/dist-packages (from aiohttp->gradio) (6.0.3)\n",
            "Requirement already satisfied: async-timeout<5.0,>=4.0.0a3 in /usr/local/lib/python3.8/dist-packages (from aiohttp->gradio) (4.0.2)\n",
            "Requirement already satisfied: yarl<2.0,>=1.0 in /usr/local/lib/python3.8/dist-packages (from aiohttp->gradio) (1.8.2)\n",
            "Requirement already satisfied: charset-normalizer<3.0,>=2.0 in /usr/local/lib/python3.8/dist-packages (from aiohttp->gradio) (2.1.1)\n",
            "Requirement already satisfied: idna>=2.0 in /usr/local/lib/python3.8/dist-packages (from yarl<2.0,>=1.0->aiohttp->gradio) (2.10)\n",
            "Requirement already satisfied: jsonschema>=3.0 in /usr/local/lib/python3.8/dist-packages (from altair->gradio) (4.3.3)\n",
            "Requirement already satisfied: toolz in /usr/local/lib/python3.8/dist-packages (from altair->gradio) (0.12.0)\n",
            "Requirement already satisfied: entrypoints in /usr/local/lib/python3.8/dist-packages (from altair->gradio) (0.4)\n",
            "Requirement already satisfied: importlib-resources>=1.4.0 in /usr/local/lib/python3.8/dist-packages (from jsonschema>=3.0->altair->gradio) (5.10.1)\n",
            "Requirement already satisfied: pyrsistent!=0.17.0,!=0.17.1,!=0.17.2,>=0.14.0 in /usr/local/lib/python3.8/dist-packages (from jsonschema>=3.0->altair->gradio) (0.19.2)\n",
            "Requirement already satisfied: zipp>=3.1.0 in /usr/local/lib/python3.8/dist-packages (from importlib-resources>=1.4.0->jsonschema>=3.0->altair->gradio) (3.11.0)\n",
            "Requirement already satisfied: pytz>=2017.3 in /usr/local/lib/python3.8/dist-packages (from pandas->gradio) (2022.6)\n",
            "Requirement already satisfied: python-dateutil>=2.7.3 in /usr/local/lib/python3.8/dist-packages (from pandas->gradio) (2.8.2)\n",
            "Requirement already satisfied: six>=1.5 in /usr/local/lib/python3.8/dist-packages (from python-dateutil>=2.7.3->pandas->gradio) (1.16.0)\n",
            "Collecting starlette==0.22.0\n",
            "  Downloading starlette-0.22.0-py3-none-any.whl (64 kB)\n",
            "\u001b[K     |████████████████████████████████| 64 kB 3.5 MB/s \n",
            "\u001b[?25hCollecting anyio<5,>=3.4.0\n",
            "  Downloading anyio-3.6.2-py3-none-any.whl (80 kB)\n",
            "\u001b[K     |████████████████████████████████| 80 kB 10.8 MB/s \n",
            "\u001b[?25hRequirement already satisfied: typing-extensions>=3.10.0 in /usr/local/lib/python3.8/dist-packages (from starlette==0.22.0->fastapi->gradio) (4.4.0)\n",
            "Collecting sniffio>=1.1\n",
            "  Downloading sniffio-1.3.0-py3-none-any.whl (10 kB)\n",
            "Collecting httpcore<0.17.0,>=0.15.0\n",
            "  Downloading httpcore-0.16.3-py3-none-any.whl (69 kB)\n",
            "\u001b[K     |████████████████████████████████| 69 kB 7.8 MB/s \n",
            "\u001b[?25hRequirement already satisfied: certifi in /usr/local/lib/python3.8/dist-packages (from httpx->gradio) (2022.12.7)\n",
            "Collecting rfc3986[idna2008]<2,>=1.3\n",
            "  Downloading rfc3986-1.5.0-py2.py3-none-any.whl (31 kB)\n",
            "Collecting h11<0.15,>=0.13\n",
            "  Downloading h11-0.14.0-py3-none-any.whl (58 kB)\n",
            "\u001b[K     |████████████████████████████████| 58 kB 7.2 MB/s \n",
            "\u001b[?25hCollecting mdurl~=0.1\n",
            "  Downloading mdurl-0.1.2-py3-none-any.whl (10.0 kB)\n",
            "Collecting linkify-it-py~=1.0\n",
            "  Downloading linkify_it_py-1.0.3-py3-none-any.whl (19 kB)\n",
            "Collecting mdit-py-plugins\n",
            "  Downloading mdit_py_plugins-0.3.3-py3-none-any.whl (50 kB)\n",
            "\u001b[K     |████████████████████████████████| 50 kB 7.6 MB/s \n",
            "\u001b[?25hCollecting uc-micro-py\n",
            "  Downloading uc_micro_py-1.0.1-py3-none-any.whl (6.2 kB)\n",
            "Requirement already satisfied: cycler>=0.10 in /usr/local/lib/python3.8/dist-packages (from matplotlib->gradio) (0.11.0)\n",
            "Requirement already satisfied: pyparsing!=2.0.4,!=2.1.2,!=2.1.6,>=2.0.1 in /usr/local/lib/python3.8/dist-packages (from matplotlib->gradio) (3.0.9)\n",
            "Requirement already satisfied: kiwisolver>=1.0.1 in /usr/local/lib/python3.8/dist-packages (from matplotlib->gradio) (1.4.4)\n",
            "Requirement already satisfied: urllib3<1.27,>=1.21.1 in /usr/local/lib/python3.8/dist-packages (from requests->gradio) (1.24.3)\n",
            "Requirement already satisfied: click>=7.0 in /usr/local/lib/python3.8/dist-packages (from uvicorn->gradio) (8.1.3)\n",
            "Building wheels for collected packages: ffmpy, python-multipart\n",
            "  Building wheel for ffmpy (setup.py) ... \u001b[?25l\u001b[?25hdone\n",
            "  Created wheel for ffmpy: filename=ffmpy-0.3.0-py3-none-any.whl size=4711 sha256=fccb268f0c5e2991ff341b06703a3a9db2be58a09bf17635d69ac6c4cfa038ad\n",
            "  Stored in directory: /root/.cache/pip/wheels/ff/5b/59/913b443e7369dc04b61f607a746b6f7d83fb65e2e19fcc958d\n",
            "  Building wheel for python-multipart (setup.py) ... \u001b[?25l\u001b[?25hdone\n",
            "  Created wheel for python-multipart: filename=python_multipart-0.0.5-py3-none-any.whl size=31678 sha256=95a0cc327524e9e29a9b45274eb64712de36256df4c8e45e7f8fbf3d7d2c4f2c\n",
            "  Stored in directory: /root/.cache/pip/wheels/9e/fc/1c/cf980e6413d3ee8e70cd8f39e2366b0f487e3e221aeb452eb0\n",
            "Successfully built ffmpy python-multipart\n",
            "Installing collected packages: sniffio, mdurl, uc-micro-py, rfc3986, markdown-it-py, h11, anyio, starlette, mdit-py-plugins, linkify-it-py, httpcore, websockets, uvicorn, python-multipart, pydub, pycryptodome, orjson, httpx, ffmpy, fastapi, gradio\n",
            "Successfully installed anyio-3.6.2 fastapi-0.88.0 ffmpy-0.3.0 gradio-3.14.0 h11-0.14.0 httpcore-0.16.3 httpx-0.23.1 linkify-it-py-1.0.3 markdown-it-py-2.1.0 mdit-py-plugins-0.3.3 mdurl-0.1.2 orjson-3.8.3 pycryptodome-3.16.0 pydub-0.25.1 python-multipart-0.0.5 rfc3986-1.5.0 sniffio-1.3.0 starlette-0.22.0 uc-micro-py-1.0.1 uvicorn-0.20.0 websockets-10.4\n"
          ]
        }
      ]
    },
    {
      "cell_type": "code",
      "source": [
        "import gradio as gr"
      ],
      "metadata": {
        "id": "M6SJe7J1AGPq"
      },
      "execution_count": 79,
      "outputs": []
    },
    {
      "cell_type": "code",
      "source": [
        "from gtts import gTTS #Import Google Text to Speech\n",
        "from IPython.display import Audio #Import Audio method from IPython's Display Class\n",
        "\n",
        "vocab = vectorization.get_vocabulary()\n",
        "index_lookup = dict(zip(range(len(vocab)), vocab))\n",
        "max_decoded_sentence_length = SEQ_LENGTH - 1\n",
        "valid_images = list(valid_data.keys())\n",
        "\n",
        "def generate_caption(caption,audio):\n",
        "# Upload an image to the user interface\n",
        "  sample_img = gr.inputs.Image(type = \"pil\",label =\"Original Image\")\n",
        "\n",
        "# Read the image from the disk\n",
        "  sample_img = decode_and_resize(sample_img)\n",
        "  img = sample_img.numpy().clip(0, 255).astype(np.uint8)\n",
        "  plt.imshow(img)\n",
        "  plt.show()\n",
        "\n",
        "# Pass the image to the CNN\n",
        "  img = tf.expand_dims(sample_img, 0)\n",
        "  img = caption_model.cnn_model(img)\n",
        "\n",
        "# Pass the image features to the Transformer encoder\n",
        "  encoded_img = caption_model.encoder(img, training=False)\n",
        "\n",
        "# Generate the caption using the Transformer decoder\n",
        "  decoded_caption = \"<start> \"\n",
        "  for i in range(max_decoded_sentence_length):\n",
        "     tokenized_caption = vectorization([decoded_caption])[:, :-1]\n",
        "     mask = tf.math.not_equal(tokenized_caption, 0)\n",
        "     predictions = caption_model.decoder(tokenized_caption, encoded_img, training=False, mask=mask)\n",
        "     sampled_token_index = np.argmax(predictions[0, i, :])\n",
        "     sampled_token = index_lookup[sampled_token_index]\n",
        "     if sampled_token == \" <end>\":\n",
        "      break\n",
        "\n",
        "  decoded_caption += \" \" + sampled_token\n",
        "\n",
        "  decoded_caption = decoded_caption.replace(\"<start> \", \"\")\n",
        "  decoded_caption = decoded_caption.replace(\" <end>\", \"\").strip()\n",
        "#Displays the decoded caption in a textual format\n",
        "  caption = gr.outputs.Textbox(label = 'caption')\n",
        "  caption = print(decoded_caption)\n",
        "  tts = gTTS(decoded_caption) #Provide the string to convert to speech\n",
        "  tts.save('1.wav') #save the string converted to speech as a .wav file\n",
        "  sound_file = '1.wav'\n",
        "  audio = gr.Audio(sound_file) \n",
        "  audio = Audio(sound_file, autoplay=True) \n",
        "  return caption,audio"
      ],
      "metadata": {
        "id": "gWOczGUmBn2y"
      },
      "execution_count": 101,
      "outputs": []
    },
    {
      "cell_type": "code",
      "source": [
        "inputs =[\n",
        "    gr.inputs.Image(type = \"pil\",label =\"Original Image\")\n",
        "]\n",
        "outputs =[\n",
        "    gr.outputs.Textbox(label = 'caption'),\n",
        "    gr.Audio(sound_file)\n",
        "]\n",
        "title = \"Upload an image\"\n",
        "\n",
        "gr.Interface(generate_caption,inputs,outputs).launch()"
      ],
      "metadata": {
        "colab": {
          "base_uri": "https://localhost:8080/",
          "height": 810
        },
        "id": "9BrudSJoPm3k",
        "outputId": "a6d1b974-551c-4a4e-a891-35ecee9eda3c"
      },
      "execution_count": 103,
      "outputs": [
        {
          "output_type": "stream",
          "name": "stderr",
          "text": [
            "/usr/local/lib/python3.8/dist-packages/gradio/inputs.py:256: UserWarning: Usage of gradio.inputs is deprecated, and will not be supported in the future, please import your component from gradio.components\n",
            "  warnings.warn(\n",
            "/usr/local/lib/python3.8/dist-packages/gradio/deprecation.py:40: UserWarning: `optional` parameter is deprecated, and it has no effect\n",
            "  warnings.warn(value)\n",
            "/usr/local/lib/python3.8/dist-packages/gradio/outputs.py:21: UserWarning: Usage of gradio.outputs is deprecated, and will not be supported in the future, please import your components from gradio.components\n",
            "  warnings.warn(\n",
            "/usr/local/lib/python3.8/dist-packages/gradio/utils.py:796: UserWarning: Expected 2 arguments for function <function generate_caption at 0x7f2f1aaba160>, received 1.\n",
            "  warnings.warn(\n",
            "/usr/local/lib/python3.8/dist-packages/gradio/utils.py:800: UserWarning: Expected at least 2 arguments for function <function generate_caption at 0x7f2f1aaba160>, received 1.\n",
            "  warnings.warn(\n"
          ]
        },
        {
          "output_type": "stream",
          "name": "stdout",
          "text": [
            "Colab notebook detected. To show errors in colab notebook, set `debug=True` in `launch()`\n",
            "Note: opening Chrome Inspector may crash demo inside Colab notebooks.\n",
            "\n",
            "To create a public link, set `share=True` in `launch()`.\n"
          ]
        },
        {
          "output_type": "display_data",
          "data": {
            "text/plain": [
              "<IPython.core.display.Javascript object>"
            ],
            "application/javascript": [
              "(async (port, path, width, height, cache, element) => {\n",
              "                        if (!google.colab.kernel.accessAllowed && !cache) {\n",
              "                            return;\n",
              "                        }\n",
              "                        element.appendChild(document.createTextNode(''));\n",
              "                        const url = await google.colab.kernel.proxyPort(port, {cache});\n",
              "\n",
              "                        const external_link = document.createElement('div');\n",
              "                        external_link.innerHTML = `\n",
              "                            <div style=\"font-family: monospace; margin-bottom: 0.5rem\">\n",
              "                                Running on <a href=${new URL(path, url).toString()} target=\"_blank\">\n",
              "                                    https://localhost:${port}${path}\n",
              "                                </a>\n",
              "                            </div>\n",
              "                        `;\n",
              "                        element.appendChild(external_link);\n",
              "\n",
              "                        const iframe = document.createElement('iframe');\n",
              "                        iframe.src = new URL(path, url).toString();\n",
              "                        iframe.height = height;\n",
              "                        iframe.allow = \"autoplay; camera; microphone; clipboard-read; clipboard-write;\"\n",
              "                        iframe.width = width;\n",
              "                        iframe.style.border = 0;\n",
              "                        element.appendChild(iframe);\n",
              "                    })(7867, \"/\", \"100%\", 500, false, window.element)"
            ]
          },
          "metadata": {}
        },
        {
          "output_type": "execute_result",
          "data": {
            "text/plain": []
          },
          "metadata": {},
          "execution_count": 103
        }
      ]
    }
  ],
  "metadata": {
    "accelerator": "GPU",
    "colab": {
      "provenance": [],
      "authorship_tag": "ABX9TyP0tjuPXuirKelHncYOfg+O",
      "include_colab_link": true
    },
    "gpuClass": "standard",
    "kernelspec": {
      "display_name": "Python 3",
      "name": "python3"
    },
    "language_info": {
      "name": "python"
    }
  },
  "nbformat": 4,
  "nbformat_minor": 0
}